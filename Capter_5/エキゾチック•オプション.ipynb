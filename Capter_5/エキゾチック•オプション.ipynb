{
 "cells": [
  {
   "cell_type": "code",
   "execution_count": 1,
   "metadata": {},
   "outputs": [],
   "source": [
    "import math\n",
    "import numpy as np\n",
    "from scipy import stats\n",
    "import matplotlib.pyplot as plt\n"
   ]
  },
  {
   "cell_type": "code",
   "execution_count": 31,
   "metadata": {},
   "outputs": [],
   "source": [
    "from matplotlib.image import imread\n",
    "img4_1 = imread('./picture/p4_1.png')"
   ]
  },
  {
   "attachments": {},
   "cell_type": "markdown",
   "metadata": {},
   "source": [
    "エキゾチック・オプション...通常のバニラ・オプション（プレーン・バニラ）に様々な条件を加味した特殊なオプションをいう。投資家のニーズや投資銀行の利益目標に合わせて多種多様なものが開発されている。単体の取引の他、仕組み債の構成要素に使われていることもある。$\\\\$\n",
    "エキゾチック・オプションに追加される条件は、大きく分けると、ある価格に達すると有効になる「ノックイン条項」と、ある価格に達すると無効になる「ノックアウト条項」がある。また、満期日に特定の条件を満たすと定められたペイオフになる「デジタル・オプション」もある。"
   ]
  },
  {
   "attachments": {},
   "cell_type": "markdown",
   "metadata": {},
   "source": [
    "バイナリー・オプション...デジタル・オプションの1つで、不連続なペイオフを持つ。$\\\\$\n",
    "\n",
    "①キャッシュ・オア・ナッシング・コール（Cash-or-nothing call）...満期時に原資産価格$S_T$が行使価格$K$以上になると、あらかじめ定められた金額$X$が支払われるが、下回ると何も支払われない。\n",
    "$$\\text{Payoff}=\\left\\{\n",
    "\\begin{array}{ll}\n",
    "X & \\text{if}\\ \\ S_T\\geq K \\\\\n",
    "0 & \\text{if}\\ \\ S_T<K\n",
    "\\end{array}\n",
    "\\right.$$\n",
    "②アセット・オア・ナッシング・コール（Asset-or-nothing call）...満期時に原資産価格$S_T$が行使価格$K$以上になると、資産価格$S_T$が支払われるが、下回ると何も支払われない。\n",
    "$$\\text{Payoff}=\\left\\{\n",
    "\\begin{array}{ll}\n",
    "S_T & \\text{if}\\ \\ S_T\\geq K \\\\\n",
    "0 & \\text{if}\\ \\ S_T<K\n",
    "\\end{array}\n",
    "\\right.$$"
   ]
  },
  {
   "cell_type": "code",
   "execution_count": 7,
   "metadata": {},
   "outputs": [
    {
     "data": {
      "image/png": "[encoded data removed]",
      "text/plain": [
       "<Figure size 432x288 with 1 Axes>"
      ]
     },
     "metadata": {
      "needs_background": "light"
     },
     "output_type": "display_data"
    }
   ],
   "source": [
    "# キャッシュ・オア・ナッシング・コール\n",
    "s = np.arange(0, 10, 0.1)\n",
    "K = 3\n",
    "x = 3\n",
    "\n",
    "p = 3 * (s > K)\n",
    "\n",
    "# グラフの設定\n",
    "plt.plot(s, p, lw=5) # プロット\n",
    "plt.xlim(-1, 10)  # x軸の範囲\n",
    "plt.ylim(-0.5, 10) # y軸の範囲\n",
    "plt.grid() # グリッド描画\n",
    "plt.show() # グラフを出力"
   ]
  },
  {
   "cell_type": "code",
   "execution_count": 8,
   "metadata": {},
   "outputs": [
    {
     "data": {
      "image/png": "[encoded data removed]",
      "text/plain": [
       "<Figure size 432x288 with 1 Axes>"
      ]
     },
     "metadata": {
      "needs_background": "light"
     },
     "output_type": "display_data"
    }
   ],
   "source": [
    "# アセット・オア・ナッシング・コール\n",
    "s = np.arange(0, 10, 0.1)\n",
    "K = 3\n",
    "\n",
    "p = s * (s > K)\n",
    "\n",
    "# グラフの設定\n",
    "plt.plot(s, p, lw=5) # プロット\n",
    "plt.xlim(-1, 10)  # x軸の範囲\n",
    "plt.ylim(-0.5, 10) # y軸の範囲\n",
    "plt.grid() # グリッド描画\n",
    "plt.show() # グラフを出力"
   ]
  },
  {
   "attachments": {},
   "cell_type": "markdown",
   "metadata": {},
   "source": [
    "キャッシュ・オア・ナッシング・コールの解析解は\n",
    "$$Call(X,K,r,t,T,\\sigma)=Xe^{-rt}N(d_2)$$\n",
    "ただし、\n",
    "$$d_2=\\cfrac{\\ln(S_0/K)+(r-\\sigma^2/2)T}{\\sigma\\sqrt{T}}$$"
   ]
  },
  {
   "cell_type": "code",
   "execution_count": 168,
   "metadata": {},
   "outputs": [],
   "source": [
    "# キャッシュ・オア・ナッシング・コールの解析解を用いたオプション価格\n",
    "class Cash_Or_Nothing:\n",
    "    def __init__(self, s0, X, K, r, t, T, sigma):\n",
    "        self.s0 = s0\n",
    "        self.X =X\n",
    "        self.K = K\n",
    "        self.r = r\n",
    "        self.t = t\n",
    "        self.T = T\n",
    "        self.sigma = sigma\n",
    "\n",
    "    def Call(self, s0, X, K, r, t, T, sigma):\n",
    "        self.s0 = s0\n",
    "        self.X = X\n",
    "        self.K = K\n",
    "        self.r = r\n",
    "        self.t = t\n",
    "        self.T = T\n",
    "        self.sigma = sigma\n",
    "\n",
    "        d1 = (np.log(s0/K)+(r + sigma**2 / 2) * T) / (sigma * np.sqrt(T))\n",
    "        d2 = d1 - sigma * np.sqrt(T)\n",
    "        call = X * np.exp(-r*t) * stats.norm.cdf(d2,0,1)\n",
    "        return call\n"
   ]
  },
  {
   "cell_type": "code",
   "execution_count": 169,
   "metadata": {},
   "outputs": [],
   "source": [
    "# キャッシュ・オア・ナッシング・コールのモンテカルロ法\n",
    "class Cash_Or_Nothing_Monte_Carlo:\n",
    "    def __init__(self, s0, X, mu, sigma, dt, N):\n",
    "        self.s0 = s0\n",
    "        self.X = X\n",
    "        self.mu = mu\n",
    "        self.sigma = sigma\n",
    "        self.dt = dt\n",
    "        self.N = N\n",
    "    \n",
    "    def Price(self, s0, mu, sigma, dt):\n",
    "        eps = np.random.normal(0,1,1)\n",
    "        s = s0 * np.exp((mu - (sigma**2) / 2 ) * dt + sigma * eps * np.sqrt(dt))\n",
    "        return s\n",
    "    \n",
    "    def MC_Call(self, s0, X, K, r, t, T, mu, sigma, dt, N):\n",
    "        Payoff = 0\n",
    "        for i in range(N):\n",
    "            s = self.Price(s0, mu, sigma, dt)\n",
    "\n",
    "            if s > K:\n",
    "                dPayoff = X\n",
    "                Payoff = Payoff + dPayoff\n",
    "\n",
    "        mean_Payoff = Payoff / N\n",
    "        MC_call = mean_Payoff * np.exp(-r * t)\n",
    "        return MC_call"
   ]
  },
  {
   "cell_type": "code",
   "execution_count": 172,
   "metadata": {},
   "outputs": [
    {
     "name": "stdout",
     "output_type": "stream",
     "text": [
      "解析解_Call = 1.2306008682827019\n",
      "MC_Call = 1.2288417236600975\n"
     ]
    }
   ],
   "source": [
    "s0 = 100\n",
    "X = 2.5\n",
    "K = 100\n",
    "r = 0.05\n",
    "T = 0.5\n",
    "t = T\n",
    "mu = r\n",
    "sigma = 0.3\n",
    "n = 1\n",
    "dt = T/n\n",
    "N =100000\n",
    "\n",
    "CON = Cash_Or_Nothing(s0, X, K, r, t, T, sigma)\n",
    "CON_MC = Cash_Or_Nothing_Monte_Carlo(s0, X, mu, sigma, dt, N)\n",
    "\n",
    "C = CON.Call(s0, X, K, r, t, T, sigma)\n",
    "MC = CON_MC.MC_Call(s0, X, K, r, t, T, mu, sigma, dt, N)\n",
    "\n",
    "print(f'解析解_Call = {C}')\n",
    "print(f'MC_Call = {MC}')\n"
   ]
  },
  {
   "attachments": {},
   "cell_type": "markdown",
   "metadata": {},
   "source": [
    "（注）コール価格が通常のコール価格に比べて低いが、これは通常のヨーロピアンコールのペイオフが株価と共に大きくなっていき、その期待平均値が固定ペイオフの2.5よりずっと大きいことを表している。（X≒29.58で通常のコール価格とほぼ同じになる。）"
   ]
  },
  {
   "cell_type": "code",
   "execution_count": 112,
   "metadata": {},
   "outputs": [
    {
     "name": "stdout",
     "output_type": "stream",
     "text": [
      "解析解_Call = 14.560469473520927\n",
      "MC_Call = 14.517729527280434\n"
     ]
    }
   ],
   "source": [
    "s0 = 100\n",
    "X = 29.58\n",
    "K = 100\n",
    "r = 0.05\n",
    "T = 0.5\n",
    "sigma = 0.3\n",
    "n = 1\n",
    "dt = T/n\n",
    "N =100000\n",
    "\n",
    "CON = Cash_Or_Nothing(s0, X, K, r, T, sigma)\n",
    "CON_MC = Cash_Or_Nothing_Monte_Carlo(s0, X, sigma, dt, N)\n",
    "\n",
    "C = CON.Call(s0, X, K, r, T, sigma)\n",
    "MC = CON_MC.MC_Call(s0, X, K, r, T, sigma, dt, N)\n",
    "\n",
    "print(f'解析解_Call = {C}')\n",
    "print(f'MC_Call = {MC}')\n"
   ]
  },
  {
   "attachments": {},
   "cell_type": "markdown",
   "metadata": {},
   "source": [
    "ルックバック・オプション...オプションの満期時に、それまでの資産価格の経路に依存してペイオフが決まる。（資産価格が達した最大値または最小値に依存する。）$\\\\$\n",
    "\n",
    "①変動ルックバック・コールのペイオフ：$\\max(S_T-S_{min},0)$, 変動ルックバック・プットのペイオフ：$\\max(S_{max}-S_T,0)$ $\\\\$\n",
    "②固定ルックバック・コールのペイオフ：$\\max(S_{max}-K,0)$, 固定ルックバック・プットのペイオフ：$\\max(K-S_{min},0)$"
   ]
  },
  {
   "attachments": {},
   "cell_type": "markdown",
   "metadata": {},
   "source": [
    "無配当株式を原資産とする変動ルックバック・コールの解析解は\n",
    "$$Call(S_0,S_{min},K,r,T,\\sigma)=S_0N(a_1)-S_0\\cfrac{\\sigma^2}{2r}N(-a_1)-S_{min}e^{-rT}\\left(N(a_2)-\\cfrac{\\sigma^2}{2r}e^{Y_1}N(-a_3)\\right)$$\n",
    "ただし、\n",
    "$$a_1=\\cfrac{\\ln(S_0/S_{min})+(r+\\sigma^2/2)T}{\\sigma\\sqrt{T}},$$\n",
    "$$a_2=a_1-\\sigma\\sqrt{T},$$\n",
    "$$a_3=\\cfrac{\\ln(S_0/S_{min})+(-r+\\sigma^2/2)T}{\\sigma\\sqrt{T}},$$\n",
    "$$Y_1=\\cfrac{-2(r-\\sigma^2/2)\\ln(S_0/S_{min})}{\\sigma^2}$$"
   ]
  },
  {
   "cell_type": "code",
   "execution_count": 158,
   "metadata": {},
   "outputs": [],
   "source": [
    "# 無配当株式を原資産とする変動ルックバック・コールの解析解を用いたオプション価格\n",
    "class Lookback:\n",
    "    def __init__(self, s0, smin, K, r, T, sigma):\n",
    "        self.s0 = s0\n",
    "        self.smin = smin\n",
    "        self.K = K\n",
    "        self.r = r\n",
    "        self.T = T\n",
    "        self.sigma = sigma\n",
    "\n",
    "    def Call(self, s0, smin, K, r, T, sigma):\n",
    "        self.s0 = s0\n",
    "        self.smin = smin\n",
    "        self.K = K\n",
    "        self.r = r\n",
    "        self.T = T\n",
    "        self.sigma = sigma\n",
    "\n",
    "        a1 = (np.log(s0/smin)+(r + sigma**2 / 2) * T) / (sigma * np.sqrt(T))\n",
    "        a2 = a1 - sigma * np.sqrt(T)\n",
    "        a3 = (np.log(s0/smin)+(-r + sigma**2 / 2) * T) / (sigma * np.sqrt(T))\n",
    "        Y1 = (-2 * (r - sigma**2/2) * np.log(s0/smin)) / (sigma**2)\n",
    "        call = s0 * stats.norm.cdf(a1,0,1) - s0 * (sigma**2/(2*r)) * stats.norm.cdf(-a1,0,1) - \\\n",
    "        smin * np.exp(-r*T) * (stats.norm.cdf(a2,0,1) - sigma**2/(2*r) * np.exp(Y1) * stats.norm.cdf(-a3,0,1))\n",
    "        return call\n"
   ]
  },
  {
   "cell_type": "code",
   "execution_count": 163,
   "metadata": {},
   "outputs": [],
   "source": [
    "# 変動ルックバック・コールのモンテカルロ法\n",
    "class Lookback_Monte_Carlo:\n",
    "    def __init__(self, s0, smin, mu, sigma, T, tstep, N):\n",
    "        self.s0 = s0\n",
    "        self.smin = smin\n",
    "        self.mu = mu\n",
    "        self.sigma = sigma\n",
    "        self.T = T\n",
    "        self.tstep = tstep\n",
    "        self.N = N\n",
    "    \n",
    "    def Price(self, s0, mu, sigma, dt):\n",
    "        eps = np.random.normal(0,1,1)\n",
    "        s = s0 * np.exp((mu - (sigma**2) / 2 ) * dt + sigma * eps * np.sqrt(dt))\n",
    "        return s\n",
    "    \n",
    "    def MC_Call(self, s0, smin, K, r, T, tstep, mu, sigma, dt, N):\n",
    "        Payoff = 0\n",
    "        calc_err_buffer = tstep / 100\n",
    "        for i in range(N):\n",
    "            st = s0\n",
    "            stmin = smin\n",
    "            t = tstep\n",
    "            while t <= T + calc_err_buffer:\n",
    "                st = self.Price(st, mu, sigma, tstep)\n",
    "                t = t + tstep\n",
    "                if st < stmin:\n",
    "                    stmin = st\n",
    "            dPayoff = max(st-stmin, 0)\n",
    "            Payoff = Payoff + dPayoff\n",
    "\n",
    "        mean_Payoff = Payoff / N\n",
    "        MC_call = mean_Payoff * np.exp(-r * T)\n",
    "        return MC_call"
   ]
  },
  {
   "cell_type": "code",
   "execution_count": 165,
   "metadata": {},
   "outputs": [
    {
     "name": "stdout",
     "output_type": "stream",
     "text": [
      "解析解_Call = 16.90952811040798\n",
      "MC_Call = [16.57902571]\n"
     ]
    }
   ],
   "source": [
    "s0 = 100\n",
    "smin = 100\n",
    "K = 100\n",
    "r = 0.05\n",
    "T = 0.5\n",
    "tstep = 0.001\n",
    "mu = r\n",
    "sigma = 0.3\n",
    "n = 1\n",
    "dt = T/n\n",
    "N =10000\n",
    "\n",
    "LB = Lookback(s0, smin, K, r, T, sigma)\n",
    "LB_MC = Lookback_Monte_Carlo(s0, smin, mu, sigma, T, tstep, N)\n",
    "\n",
    "C = LB.Call(s0, smin, K, r, T, sigma)\n",
    "MC = LB_MC.MC_Call(s0, smin, K, r, T, tstep, mu, sigma, tstep, N)\n",
    "\n",
    "print(f'解析解_Call = {C}')\n",
    "print(f'MC_Call = {MC}')\n"
   ]
  },
  {
   "attachments": {},
   "cell_type": "markdown",
   "metadata": {},
   "source": [
    "（注）最終株価までの経路をサンプルごとにシミュレートして、最小株価を判別し、ペイオフを計算している。このような経路依存型のアルゴリズムを用いると、幅広い複雑なオプションが評価できる。一方で、計算時間はバイナリー・オプションと比べて長く、サンプル数と分割数のトレードオフ関係を適当にする必要がある。"
   ]
  },
  {
   "attachments": {},
   "cell_type": "markdown",
   "metadata": {},
   "source": [
    "バリア・オプション...原資産価格$S_t$が、定められた期間内にあるレベルに達したかどうかでペイオフが変わるオプション。（仕組債にもよく組み込まれる。）$\\\\$\n",
    "\n",
    "（1）ノックアウト・オプション...原資産価格があるレベル（バリア）に達すると消滅する。$\\\\$\n",
    "（2）ノックイン・オプション...原資産価格があるレベル（バリア）に達すると出現する。$\\\\$\n",
    "\n",
    "①ダウン・アンド・アウト・コール...下限バリアに達すると消滅するコール・オプション$\\\\$\n",
    "②ダウン・アンド・イン・コール...下限バリアに達すると有効になるコール・オプション$\\\\$\n",
    "③アップ・アンド・アウト・コール...上限バリアに達すると消滅するコール・オプション$\\\\$\n",
    "④アップ・アンド・イン・コール...上限バリアに達すると有効になるコール・オプション"
   ]
  },
  {
   "attachments": {},
   "cell_type": "markdown",
   "metadata": {},
   "source": [
    "無配当株式を原資産とするダウン・アンド・アウト・コールの解析解は\n",
    "$$Call(S_0,K,r,t,T,\\sigma,c_{BS},B)=c_{BS}-S_0(B/S_0)^{2\\lambda}N(d_3)+Ke^{-rt}(B/S_0)^{2\\lambda-2}N(d_3-\\sigma\\sqrt{T})$$\n",
    "ただし、\n",
    "$$\\lambda=\\cfrac{r+\\sigma^2/2}{\\sigma^2},$$\n",
    "$$d_3=\\cfrac{\\ln[B^2/(S_0K)]}{\\sigma\\sqrt{T}}+\\lambda\\sigma\\sqrt{T}$$\n",
    "また、$c_{BS}$はBSモデルのコール価格、$B$は下限バリア。"
   ]
  },
  {
   "cell_type": "code",
   "execution_count": 173,
   "metadata": {},
   "outputs": [],
   "source": [
    "# （復習）BSモデルの解析解を用いたオプション価格\n",
    "class BS_Model:\n",
    "    def __init__(self, s0, K, r, T, sigma):\n",
    "        self.s0 = s0\n",
    "        self.K = K\n",
    "        self.r = r\n",
    "        self.T = T\n",
    "        self.sigma = sigma\n",
    "\n",
    "    def Call(self, s0, K, r, T, sigma):\n",
    "        self.s0 = s0\n",
    "        self.K = K\n",
    "        self.r = r\n",
    "        self.T = T\n",
    "        self.sigma = sigma\n",
    "\n",
    "        d1 = (np.log(s0/K)+(r + sigma**2 / 2) * T) / (sigma * np.sqrt(T))\n",
    "        d2 = d1 - sigma * np.sqrt(T)\n",
    "        call = s0 * stats.norm.cdf(d1,0,1) - K * np.exp(-r*T) * stats.norm.cdf(d2,0,1)\n",
    "        return call"
   ]
  },
  {
   "cell_type": "code",
   "execution_count": 177,
   "metadata": {},
   "outputs": [],
   "source": [
    "# 無配当株式を原資産とするダウン・アンド・アウト・コールの解析解を用いたオプション価格\n",
    "class Down_and_Out:\n",
    "    def __init__(self, s0, K, r, t, T, sigma, B):\n",
    "        self.s0 = s0\n",
    "        self.K = K\n",
    "        self.r = r\n",
    "        self.t = t\n",
    "        self.T = T\n",
    "        self.sigma = sigma\n",
    "        self.B = B\n",
    "\n",
    "    def Call(self, s0, K, r, t, T, sigma, B):\n",
    "        self.s0 = s0\n",
    "        self.K = K\n",
    "        self.r = r\n",
    "        self.t = t\n",
    "        self.T = T\n",
    "        self.sigma = sigma\n",
    "        self.B = B\n",
    "\n",
    "        lmd = (r + sigma**2 / 2) / (sigma**2)\n",
    "        d3 = np.log(B**2 / (s0*K)) / (sigma * np.sqrt(T)) + lmd * sigma * np.sqrt(T)\n",
    "        BS = BS_Model(s0, K, r, t, sigma)\n",
    "        cBS = BS.Call(s0, K, r, t, sigma)\n",
    "        call = cBS - s0 * (B/s0)**(2*lmd) * stats.norm.cdf(d3,0,1) \\\n",
    "            + K * np.exp(-r*t) * (B/s0)**(2*lmd-2) * stats.norm.cdf(d3-sigma*np.sqrt(T),0,1)\n",
    "        return call\n"
   ]
  },
  {
   "cell_type": "code",
   "execution_count": 186,
   "metadata": {},
   "outputs": [],
   "source": [
    "# ダウン・アンド・アウト・コールのモンテカルロ法\n",
    "class Down_and_Out_Monte_Carlo:\n",
    "    def __init__(self, s0, mu, sigma, B, T, tstep, N):\n",
    "        self.s0 = s0\n",
    "        self.mu = mu\n",
    "        self.sigma = sigma\n",
    "        self.B = B\n",
    "        self.T = T\n",
    "        self.tstep = tstep\n",
    "        self.N = N\n",
    "    \n",
    "    def Price(self, s0, mu, sigma, dt):\n",
    "        eps = np.random.normal(0,1,1)\n",
    "        s = s0 * np.exp((mu - (sigma**2) / 2 ) * dt + sigma * eps * np.sqrt(dt))\n",
    "        return s\n",
    "    \n",
    "    def MC_Call(self, s0, K, r, T, tstep, mu, sigma, B, dt, N):\n",
    "        Payoff = 0\n",
    "        exting = 0\n",
    "        calc_err_buffer = tstep / 100\n",
    "        for i in range(N):\n",
    "            t = 0\n",
    "            st = s0\n",
    "            maturity_flag = 0\n",
    "            exting_flag = 0\n",
    "\n",
    "            while True:\n",
    "                if st <= B:\n",
    "                    exting_flag = 1\n",
    "                else:\n",
    "                    t = t + tstep\n",
    "\n",
    "                if t <= T + calc_err_buffer:\n",
    "                    st = self.Price(st, mu, sigma, tstep)\n",
    "                else:\n",
    "                    maturity_flag = 1\n",
    "                \n",
    "                if exting_flag or maturity_flag:\n",
    "                    break\n",
    "\n",
    "            if exting_flag:\n",
    "                exting = exting + 1\n",
    "            else:\n",
    "                dPayoff = max(st-K, 0)\n",
    "                Payoff = Payoff + dPayoff\n",
    "\n",
    "        mean_Payoff = Payoff / N\n",
    "        MC_call = mean_Payoff * np.exp(-r * t)\n",
    "        exting_rate = exting / N\n",
    "        return MC_call, exting_rate"
   ]
  },
  {
   "cell_type": "code",
   "execution_count": 190,
   "metadata": {},
   "outputs": [
    {
     "name": "stdout",
     "output_type": "stream",
     "text": [
      "解析解_Call = 9.491386635636232\n",
      "MC_Call = [9.60217918]\n",
      "消滅率 = 0.2765\n"
     ]
    }
   ],
   "source": [
    "s0 = 100\n",
    "K = 100\n",
    "r = 0.05\n",
    "T = 0.5\n",
    "t = T\n",
    "tstep = 0.001\n",
    "mu = r\n",
    "sigma = 0.3\n",
    "B = 80\n",
    "n = 1\n",
    "dt = T/n\n",
    "N =10000\n",
    "\n",
    "DO = Down_and_Out(s0, K, r, t, T, sigma, B)\n",
    "DO_MC = Down_and_Out_Monte_Carlo(s0, mu, sigma, B, T, tstep, N)\n",
    "\n",
    "C = DO.Call(s0, K, r, t, T, sigma, B)\n",
    "MC = DO_MC.MC_Call(s0, K, r, T, tstep, mu, sigma, B, dt, N)\n",
    "\n",
    "print(f'解析解_Call = {C}')\n",
    "print(f'MC_Call = {MC[0]}')\n",
    "print(f'消滅率 = {MC[1]}')"
   ]
  },
  {
   "attachments": {},
   "cell_type": "markdown",
   "metadata": {},
   "source": [
    "（注）事業の拡大や撤退といった経営上の意思決定は、売上高や利益などをもとにして行われる。これらをリアル・オプションとしてモデル化する場合、拡大はノックイン、撤退はノックアウトと考えることができる。ここで計算した期待消滅率はリスク中立に基づいたものであるため、実際の原資産（期待リターン15%の株式）に合わせると、消滅率は下がる。（無裁定取引でなくなるので意味もなくなる）"
   ]
  },
  {
   "cell_type": "code",
   "execution_count": 191,
   "metadata": {},
   "outputs": [
    {
     "name": "stdout",
     "output_type": "stream",
     "text": [
      "MC_Call = [12.87380346]\n",
      "消滅率 = 0.2116\n"
     ]
    }
   ],
   "source": [
    "s0 = 100\n",
    "K = 100\n",
    "r = 0.05\n",
    "T = 0.5\n",
    "t = T\n",
    "tstep = 0.001\n",
    "mu = 0.15 # 実際の原資産（株式）の期待リターン\n",
    "sigma = 0.3\n",
    "B = 80\n",
    "n = 1\n",
    "dt = T/n\n",
    "N =10000\n",
    "\n",
    "# DO = Down_and_Out(s0, K, r, t, T, sigma, B)\n",
    "DO_MC = Down_and_Out_Monte_Carlo(s0, mu, sigma, B, T, tstep, N)\n",
    "\n",
    "# C = DO.Call(s0, K, r, t, T, sigma, B)\n",
    "MC = DO_MC.MC_Call(s0, K, r, T, tstep, mu, sigma, B, dt, N)\n",
    "\n",
    "# print(f'解析解_Call = {C}')\n",
    "print(f'MC_Call = {MC[0]}')\n",
    "print(f'消滅率 = {MC[1]}')"
   ]
  },
  {
   "attachments": {},
   "cell_type": "markdown",
   "metadata": {},
   "source": [
    "アジアン・オプション（平均オプション）...ペイオフが、定められた期間内の原資産の平均価格に依存するオプション。原資産価格が平均価格になるものと、行使価格が平均価格になるものの2種類がある。（ある期間内の平均価格に依るので、これも経路依存型オプションである。）$\\\\$\n",
    "\n",
    "①アベレージ・プライス・コールのペイオフ：$\\max(S_{\\text{mean}}-K,0)$.$\\\\$\n",
    "②アベレージ・プライス・プットのペイオフ：$\\max(K-S_{\\text{mean}},0)$.$\\\\$\n",
    "③アベレージ・ストライク・コールのペイオフ：$\\max(S_T-S_{\\text{mean}},0)$.$\\\\$\n",
    "④アベレージ・ストライク・プットのペイオフ：$\\max(S_{\\text{mean}}-S_T,0)$.$\\\\$\n",
    "\n",
    "（注）アジアン・オプションの解析解は無い"
   ]
  },
  {
   "cell_type": "code",
   "execution_count": 192,
   "metadata": {},
   "outputs": [],
   "source": [
    "# アベレージ・ストライク・コールのモンテカルロ法\n",
    "class Asian_Monte_Carlo:\n",
    "    def __init__(self, s0, mu, sigma, mstart, mend, T, tstep, N):\n",
    "        self.s0 = s0\n",
    "        self.mu = mu\n",
    "        self.sigma = sigma\n",
    "        self.mstart = mstart\n",
    "        self.mend = mend\n",
    "        self.T = T\n",
    "        self.tstep = tstep\n",
    "        self.N = N\n",
    "    \n",
    "    def Price(self, s0, mu, sigma, dt):\n",
    "        eps = np.random.normal(0,1,1)\n",
    "        s = s0 * np.exp((mu - (sigma**2) / 2 ) * dt + sigma * eps * np.sqrt(dt))\n",
    "        return s\n",
    "    \n",
    "    def MC_Call(self, s0, K, r, T, tstep, mu, sigma, mstart, mend, dt, N):\n",
    "        Payoff = 0\n",
    "        mK = 0\n",
    "        calc_err_buffer = tstep / 100\n",
    "        for i in range(N):\n",
    "            st = s0\n",
    "            ms = 0\n",
    "            pnum = 0\n",
    "            t = 0\n",
    "            maturity_flag = 0\n",
    "\n",
    "            while True:\n",
    "                if t >= mstart and t <= mend:\n",
    "                    ms = ms + st\n",
    "                    pnum = pnum + 1\n",
    "                t = t + tstep\n",
    "\n",
    "                if t <= T + calc_err_buffer:\n",
    "                    st = self.Price(st, mu, sigma, tstep)\n",
    "                else:\n",
    "                    maturity_flag = 1\n",
    "                \n",
    "                if maturity_flag:\n",
    "                    break\n",
    "\n",
    "            ms = ms / pnum\n",
    "            dPayoff = max(st-ms, 0)\n",
    "            Payoff = Payoff + dPayoff\n",
    "            mK = mK + ms\n",
    "\n",
    "        mean_Payoff = Payoff / N\n",
    "        MC_call = mean_Payoff * np.exp(-r * t)\n",
    "        mK = mK / N\n",
    "        return MC_call, mK"
   ]
  },
  {
   "cell_type": "code",
   "execution_count": 193,
   "metadata": {},
   "outputs": [
    {
     "name": "stdout",
     "output_type": "stream",
     "text": [
      "MC_Call = [3.40718916]\n",
      "mean_K = [102.07810205]\n"
     ]
    }
   ],
   "source": [
    "s0 = 100\n",
    "K = 100\n",
    "r = 0.05\n",
    "T = 0.5\n",
    "t = T\n",
    "tstep = 0.001\n",
    "mu = r\n",
    "sigma = 0.3\n",
    "mstart = 0.3\n",
    "mend = 0.5\n",
    "n = 1\n",
    "dt = T/n\n",
    "N =10000\n",
    "\n",
    "Asia_MC = Asian_Monte_Carlo(s0, mu, sigma, mstart, mend, T, tstep, N)\n",
    "MC = Asia_MC.MC_Call(s0, K, r, T, tstep, mu, sigma, mstart, mend, dt, N)\n",
    "\n",
    "print(f'MC_Call = {MC[0]}')\n",
    "print(f'mean_K = {MC[1]}')"
   ]
  }
 ],
 "metadata": {
  "kernelspec": {
   "display_name": "base",
   "language": "python",
   "name": "python3"
  },
  "language_info": {
   "codemirror_mode": {
    "name": "ipython",
    "version": 3
   },
   "file_extension": ".py",
   "mimetype": "text/x-python",
   "name": "python",
   "nbconvert_exporter": "python",
   "pygments_lexer": "ipython3",
   "version": "3.7.13"
  },
  "orig_nbformat": 4,
  "vscode": {
   "interpreter": {
    "hash": "40d3a090f54c6569ab1632332b64b2c03c39dcf918b08424e98f38b5ae0af88f"
   }
  }
 },
 "nbformat": 4,
 "nbformat_minor": 2
}
