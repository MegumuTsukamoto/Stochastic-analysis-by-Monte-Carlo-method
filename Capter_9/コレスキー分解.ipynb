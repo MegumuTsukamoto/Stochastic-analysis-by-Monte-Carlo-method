{
 "cells": [
  {
   "cell_type": "code",
   "execution_count": 1,
   "metadata": {},
   "outputs": [],
   "source": [
    "import math\n",
    "import numpy as np\n",
    "from scipy import stats\n",
    "import matplotlib.pyplot as plt"
   ]
  },
  {
   "attachments": {},
   "cell_type": "markdown",
   "metadata": {},
   "source": [
    "相関正規乱数の生成...資産価格とボラティリティのように、正規乱数において相関を考慮することは現実のケースでも往々にしてある。独立した2つの標準正規乱数$x_1$,$x_2$から相関を持つ標準正規乱数$\\varepsilon_1$,$\\varepsilon_2$の生成は以下で求められる。\n",
    "$$\\varepsilon_1=x_1$$\n",
    "$$\\varepsilon_2=\\rho x_1+\\sqrt{1-\\rho^2}x_2$$\n",
    "$$\\rho=\\text{corr}(x_1,x_2)$$\n",
    "このように、2つの相関正規乱数の生成は容易に行える。3つ以上の場合は複雑で、コレスキー分解を用いた多変数の相関正規乱数の生成を行う。\n"
   ]
  },
  {
   "attachments": {},
   "cell_type": "markdown",
   "metadata": {},
   "source": [
    "コレスキー分解...$C$を対称な正定値行列とすると、$C$を下三角行列$L$とその転置$L^T$に分解できる（分解の仕方は一意である）\n",
    "$$C=LL^T$$\n",
    "相関係数行列$C$は対称で正定値なのでコレスキー分解が可能である。これにより、無相関の標準正規乱数ベクトルを$X=(x_1,\\dots,x_n)^T$に対して、相関をもつ標準正規乱数ベクトル$\\varepsilon=(\\varepsilon_1,\\dots,\\varepsilon_n)^T$は以下のように下三角行列$L$との積で求められる。\n",
    "$$\\varepsilon=LX$$\n",
    "\n",
    "実際、\n",
    "$$\\varepsilon\\varepsilon^T=LXX^TL^T$$\n",
    "$$E[\\varepsilon\\varepsilon^T]=LE[XX^T]L^T$$\n",
    "$$E[\\varepsilon\\varepsilon^T]=E[(\\varepsilon-0)(\\varepsilon-0)^T]=C$$\n",
    "$$LE[XX^T]L^T=LE[1]L^T=LL^T$$\n",
    "となり、コレスキー分解から相関をもつ標準正規乱数が求まる。"
   ]
  },
  {
   "attachments": {},
   "cell_type": "markdown",
   "metadata": {},
   "source": [
    "（例）以下の行列 $C$をコレスキー分解する。\n",
    "$$C=\\begin{pmatrix}4&&1&&2\\\\1&&5&&3\\\\2&&3&&6\\end{pmatrix}$$\n",
    "$$L=\\begin{pmatrix}l_{11}&&0&&0\\\\l_{21}&&l_{22}&&0\\\\l_{31}&&l_{32}&&l_{33}\\end{pmatrix}$$\n",
    "とおいて、以下の連立方程式を解けばよい。（計算の順番が重要である。）\n",
    "$$\\begin{pmatrix}4&&1&&2\\\\1&&5&&3\\\\2&&3&&6\\end{pmatrix}\n",
    "=\\begin{pmatrix}l_{11}&&0&&0\\\\l_{21}&&l_{22}&&0\\\\l_{31}&&l_{32}&&l_{33}\\end{pmatrix}\n",
    "\\begin{pmatrix}l_{11}&&l_{21}&&l_{31}\\\\0&&l_{22}&&l_{32}\\\\0&&0&&l_{33}\\end{pmatrix}\n",
    "=\\begin{pmatrix}l_{11}^2&&l_{11}l_{21}&&l_{11}l_{31}\\\\l_{11}l_{21}&&l_{11}^2+l_{22}^2&&l_{21}l_{31}+l_{22}l_{32}\\\\l_{11}l_{31}&&l_{21}l_{31}+l_{22}l_{32}&&l_{11}^2+l_{22}^2+l_{33}^2\\end{pmatrix}$$\n"
   ]
  },
  {
   "attachments": {},
   "cell_type": "markdown",
   "metadata": {},
   "source": [
    "Step1.$\\ \\ \\ l_{11}=\\sqrt{4}=2$\n",
    "\n",
    "Step2.$\\ \\ \\ l_{21}=1/l_{11}=1/2=0.5$\n",
    "\n",
    "Step3.$\\ \\ \\ l_{31}=2/l_{11}=2/2=1$\n",
    "\n",
    "Step4.$\\ \\ \\ l_{22}=\\sqrt{5-l_{21}^2}=\\sqrt{5-0.5^2}=2.179$\n",
    "\n",
    "Step5.$\\ \\ \\ l_{32}=(3-l_{31}l_{21})/l_{22}=(3-1\\cdot 0.5)/2.179=1.147$\n",
    "\n",
    "Step6.$\\ \\ \\ l_{33}=\\sqrt{6-l_{31}^2-l_{32}^2}=\\sqrt{6-1^2-1.147^2}=1.919$"
   ]
  },
  {
   "attachments": {},
   "cell_type": "markdown",
   "metadata": {},
   "source": [
    "コレスキー分解で、$\\varepsilon_i\\ \\ (i=1,\\dots,n)$が$\\varepsilon_j\\ \\ (j=1,\\dots,i-1)$に対して正しい共分散をもつためには、以下の制約条件が必要である。\n",
    "$$\\varepsilon_i=\\displaystyle{\\sum_{k=1}^i}l_{ik}x_k$$\n",
    "$$\\displaystyle{\\sum_{k=1}^i}l_{ik}^2=1$$\n",
    "$$\\displaystyle{\\sum_{k=1}^j}l_{ik}l_{jk}=\\rho_{i,j}$$\n",
    "\n",
    "一般化すると、$j<i$に対し\n",
    "$$l_{ii}=\\sqrt{\\rho_{i,i}-\\sum_{k=1}^{i-1}l_{ik}^2}$$\n",
    "$$l_{ji}=\\cfrac{1}{l_{ii}}\\left(\\rho_{j,i}-\\sum_{k=1}^{i-1}l_{jk}l_{ik}\\right)$$"
   ]
  },
  {
   "cell_type": "code",
   "execution_count": 25,
   "metadata": {},
   "outputs": [],
   "source": [
    "# コレスキー分解\n",
    "def Cholesky_decomp(C):\n",
    "    m = C.shape[0]\n",
    "    n = C.shape[1]\n",
    "\n",
    "    # 初期化\n",
    "    L = np.zeros((m, n))\n",
    "\n",
    "    for i in range(m):\n",
    "        for j in range(n):\n",
    "            Temp = C[i, j]\n",
    "            for k in range(i):\n",
    "                Temp = Temp - L[i, k] * L[j, k]\n",
    "            if j == i:\n",
    "                L[i, i] = np.sqrt(Temp)\n",
    "            else:\n",
    "                L[j, i] = Temp / L[i, i]\n",
    "    return L\n"
   ]
  },
  {
   "cell_type": "code",
   "execution_count": 28,
   "metadata": {},
   "outputs": [
    {
     "name": "stderr",
     "output_type": "stream",
     "text": [
      "/opt/anaconda3/lib/python3.7/site-packages/ipykernel_launcher.py:17: RuntimeWarning: invalid value encountered in double_scalars\n"
     ]
    },
    {
     "data": {
      "text/plain": [
       "array([[2.        ,        nan,        nan],\n",
       "       [0.5       , 2.17944947,        nan],\n",
       "       [1.        , 1.14707867, 1.91942974]])"
      ]
     },
     "execution_count": 28,
     "metadata": {},
     "output_type": "execute_result"
    }
   ],
   "source": [
    "C = [[4,1,2],\n",
    "     [1,5,3],\n",
    "     [2,3,6]]\n",
    "C = np.array(C)\n",
    "\n",
    "L = Cholesky_decomp(C)\n",
    "L"
   ]
  },
  {
   "cell_type": "code",
   "execution_count": 30,
   "metadata": {},
   "outputs": [
    {
     "name": "stdout",
     "output_type": "stream",
     "text": [
      "[[2.         0.         0.        ]\n",
      " [0.5        2.17944947 0.        ]\n",
      " [1.         1.14707867 1.91942974]]\n"
     ]
    }
   ],
   "source": [
    "# コレスキー分解はnumpyでもできる\n",
    "L = np.linalg.cholesky(C)\n",
    "print(L)"
   ]
  },
  {
   "cell_type": "code",
   "execution_count": 31,
   "metadata": {},
   "outputs": [],
   "source": [
    "# 相関正規乱数の生成\n",
    "def Normal_corr(C, X):\n",
    "    m = C.shape[0]\n",
    "    n = C.shape[1]\n",
    "    # コレスキー分解\n",
    "    L = np.linalg.cholesky(C)\n",
    "    # 相関乱数ベクトルの初期化\n",
    "    eps_corr = np.zeros_like(X)\n",
    "\n",
    "    for i in range(m):\n",
    "        Temp = 0\n",
    "        for j in range(n):\n",
    "            Temp = Temp + L[i, j]*X[j]  # Xは無相関乱数ベクトル\n",
    "        eps_corr[i] = Temp\n",
    "\n",
    "    return eps_corr"
   ]
  },
  {
   "cell_type": "code",
   "execution_count": 40,
   "metadata": {},
   "outputs": [
    {
     "name": "stdout",
     "output_type": "stream",
     "text": [
      "[[1.92780825]\n",
      " [2.13464093]\n",
      " [0.98855616]]\n"
     ]
    },
    {
     "data": {
      "image/png": "[encoded data removed]",
      "text/plain": [
       "<Figure size 432x288 with 1 Axes>"
      ]
     },
     "metadata": {
      "needs_background": "light"
     },
     "output_type": "display_data"
    },
    {
     "data": {
      "image/png": "[encoded data removed]",
      "text/plain": [
       "<Figure size 432x288 with 1 Axes>"
      ]
     },
     "metadata": {
      "needs_background": "light"
     },
     "output_type": "display_data"
    },
    {
     "data": {
      "image/png": "[encoded data removed]",
      "text/plain": [
       "<Figure size 432x288 with 1 Axes>"
      ]
     },
     "metadata": {
      "needs_background": "light"
     },
     "output_type": "display_data"
    }
   ],
   "source": [
    "# 相関正規乱数のサンプルと散布図\n",
    "# 適当な相関係数行列\n",
    "C = [[1, 0.350, -0.300],\n",
    "     [0.350, 1, 0.700],\n",
    "     [-0.300, 0.700, 1]]\n",
    "C = np.array(C)\n",
    "m = C.shape[0]\n",
    "\n",
    "# 無相関正規乱数ベクトル\n",
    "X = []\n",
    "for i in range(m):\n",
    "    eps = np.random.normal(0,1,1)\n",
    "    X.append(eps)\n",
    "\n",
    "# 相関正規乱数ベクトル\n",
    "eps_corr = Normal_corr(C,X)\n",
    "print(eps_corr)\n",
    "\n",
    "# 散布図用\n",
    "x0_vec = []\n",
    "x1_vec = []\n",
    "x2_vec = []\n",
    "for i in range(1000):\n",
    "    X = []\n",
    "    for i in range(m):\n",
    "        eps = np.random.normal(0,1,1)\n",
    "        X.append(eps)\n",
    "    eps_corr = Normal_corr(C,X)\n",
    "    x0_vec.append(eps_corr[0])\n",
    "    x1_vec.append(eps_corr[1])\n",
    "    x2_vec.append(eps_corr[2])\n",
    "\n",
    "# 元々の相関0.350の場合の相関正規乱数\n",
    "plt.scatter(x0_vec, x1_vec, color='Blue')\n",
    "plt.show()\n",
    "\n",
    "# 元々の相関-0.300の場合の相関正規乱数\n",
    "plt.scatter(x0_vec, x2_vec, color='Red')\n",
    "plt.show()\n",
    "\n",
    "# 元々の相関0.700の場合の相関正規乱数\n",
    "plt.scatter(x1_vec, x2_vec, color='Green')\n",
    "plt.show()"
   ]
  }
 ],
 "metadata": {
  "kernelspec": {
   "display_name": "base",
   "language": "python",
   "name": "python3"
  },
  "language_info": {
   "codemirror_mode": {
    "name": "ipython",
    "version": 3
   },
   "file_extension": ".py",
   "mimetype": "text/x-python",
   "name": "python",
   "nbconvert_exporter": "python",
   "pygments_lexer": "ipython3",
   "version": "3.7.13"
  },
  "orig_nbformat": 4,
  "vscode": {
   "interpreter": {
    "hash": "40d3a090f54c6569ab1632332b64b2c03c39dcf918b08424e98f38b5ae0af88f"
   }
  }
 },
 "nbformat": 4,
 "nbformat_minor": 2
}
